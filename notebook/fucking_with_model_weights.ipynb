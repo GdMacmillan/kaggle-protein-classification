{
 "cells": [
  {
   "cell_type": "code",
   "execution_count": 2,
   "metadata": {},
   "outputs": [],
   "source": [
    "import torchvision.models as models\n",
    "import torch.nn as nn\n",
    "\n",
    "from torch import cat"
   ]
  },
  {
   "cell_type": "code",
   "execution_count": 3,
   "metadata": {},
   "outputs": [],
   "source": [
    "RESNET_ENCODERS = {\n",
    "    34: models.resnet34,\n",
    "    50: models.resnet50,\n",
    "    101: models.resnet101,\n",
    "    152: models.resnet152,\n",
    "}\n",
    "\n",
    "\n",
    "class Resnet4Channel(nn.Module):\n",
    "    def __init__(self, encoder_depth=34, pretrained=True, num_classes=28):\n",
    "        super().__init__()\n",
    "\n",
    "        encoder = RESNET_ENCODERS[encoder_depth](pretrained=pretrained)\n",
    "\n",
    "        if pretrained:\n",
    "            for param in encoder.parameters():\n",
    "                param.requires_grad=False\n",
    "\n",
    "        # we initialize this conv to take in 4 channels instead of 3\n",
    "        # we keeping corresponding weights and initializing new weights with zeros\n",
    "        # this trick taken from https://www.kaggle.com/iafoss/pretrained-resnet34-with-rgby-0-460-public-lb\n",
    "        w = encoder.conv1.weight\n",
    "        self.conv1 = nn.Conv2d(4, 64, kernel_size=7, stride=2, padding=3,\n",
    "                               bias=False)\n",
    "        self.conv1.weight = nn.Parameter(cat((w,w[:,:1,:,:]),dim=1))\n",
    "\n",
    "        self.bn1 = encoder.bn1\n",
    "        self.relu = nn.ReLU(inplace=True)\n",
    "        self.maxpool = nn.MaxPool2d(kernel_size=3, stride=2, padding=1)\n",
    "\n",
    "        self.layer1 = encoder.layer1\n",
    "        self.layer2 = encoder.layer2\n",
    "        self.layer3 = encoder.layer3\n",
    "        self.layer4 = encoder.layer4\n",
    "\n",
    "        self.avgpool = encoder.avgpool\n",
    "        num_features = encoder.fc.in_features\n",
    "        self.fc = nn.Linear(num_features, 28)\n",
    "\n",
    "    def forward(self, x):\n",
    "        x = self.conv1(x)\n",
    "        x = self.bn1(x)\n",
    "        x = self.relu(x)\n",
    "        x = self.maxpool(x)\n",
    "\n",
    "        x = self.layer1(x)\n",
    "        x = self.layer2(x)\n",
    "        x = self.layer3(x)\n",
    "        x = self.layer4(x)\n",
    "\n",
    "        x = self.avgpool(x)\n",
    "        x = x.view(x.size(0), -1)\n",
    "        x = self.fc(x)\n",
    "\n",
    "        return x"
   ]
  },
  {
   "cell_type": "code",
   "execution_count": 4,
   "metadata": {},
   "outputs": [],
   "source": [
    "def resnet152(pretrained):\n",
    "    net = Resnet4Channel(encoder_depth=152, pretrained=True)\n",
    "    return net"
   ]
  },
  {
   "cell_type": "code",
   "execution_count": 5,
   "metadata": {},
   "outputs": [],
   "source": [
    "model = resnet152(pretrained=True)"
   ]
  },
  {
   "cell_type": "code",
   "execution_count": null,
   "metadata": {},
   "outputs": [],
   "source": []
  }
 ],
 "metadata": {
  "kernelspec": {
   "display_name": "Python 3",
   "language": "python",
   "name": "python3"
  },
  "language_info": {
   "codemirror_mode": {
    "name": "ipython",
    "version": 3
   },
   "file_extension": ".py",
   "mimetype": "text/x-python",
   "name": "python",
   "nbconvert_exporter": "python",
   "pygments_lexer": "ipython3",
   "version": "3.7.0"
  }
 },
 "nbformat": 4,
 "nbformat_minor": 2
}
