{
 "cells": [
  {
   "cell_type": "code",
   "execution_count": 1,
   "metadata": {},
   "outputs": [],
   "source": [
    "%matplotlib inline\n",
    "\n",
    "import os\n",
    "import torch\n",
    "import matplotlib.pyplot as plt\n",
    "\n",
    "from torchvision import transforms, models\n",
    "from torch.autograd import Variable\n",
    "from sklearn.model_selection import train_test_split\n",
    "from sklearn.metrics import f1_score\n",
    "from scipy.optimize import fmin\n",
    "from skimage import io, transform, img_as_float\n",
    "from torch.utils.data import Dataset, DataLoader\n",
    "\n",
    "os.chdir('..') # change working directory to 1 level up\n",
    "\n",
    "LOCAL=True # SET THIS\n",
    "GPU=False # SET THIS"
   ]
  },
  {
   "cell_type": "code",
   "execution_count": 2,
   "metadata": {},
   "outputs": [],
   "source": [
    "nbs = 32 # num examples in batch\n",
    "ncl = 28 # num classes"
   ]
  },
  {
   "cell_type": "code",
   "execution_count": 3,
   "metadata": {},
   "outputs": [],
   "source": [
    "bs = (nbs, ncl) # batch array size\n",
    "# preds = np.random.rand(*bs) # random predictions for batch \n",
    "# preds = torch.Tensor(preds)"
   ]
  },
  {
   "cell_type": "code",
   "execution_count": 4,
   "metadata": {},
   "outputs": [],
   "source": [
    "np.random.RandomState(seed=193952)\n",
    "true_thresholds = np.random.rand((ncl))\n",
    "\n",
    "def gen_data(th_true, nbs, ncl):\n",
    "    data = np.zeros(bs)\n",
    "    for ix, th in enumerate(th_true):\n",
    "        col = np.random.normal(loc=th, scale=1, size=(nbs))\n",
    "        data[:, ix] = col\n",
    "    return data"
   ]
  },
  {
   "cell_type": "code",
   "execution_count": 5,
   "metadata": {},
   "outputs": [],
   "source": [
    "preds = gen_data(true_thresholds, nbs, ncl)"
   ]
  },
  {
   "cell_type": "code",
   "execution_count": 6,
   "metadata": {},
   "outputs": [],
   "source": [
    "# for i in range(ncl):\n",
    "#     plt.hist(preds[:, i], density=True)\n",
    "#     plt.vlines(true_thresholds[i], 0, 1, color='r')\n",
    "#     plt.show()"
   ]
  },
  {
   "cell_type": "code",
   "execution_count": 7,
   "metadata": {},
   "outputs": [],
   "source": [
    "true_labels = np.zeros(bs)\n",
    "for i in range(ncl):\n",
    "    th = true_thresholds[i]\n",
    "    col = np.zeros(nbs)\n",
    "    for j in range(nbs):\n",
    "        col[j] = 1 if np.random.random() > th else 0\n",
    "    true_labels[:, i] = col"
   ]
  },
  {
   "cell_type": "code",
   "execution_count": 8,
   "metadata": {},
   "outputs": [
    {
     "name": "stderr",
     "output_type": "stream",
     "text": [
      "/Users/gmacmillan/anaconda3/envs/k-protein/lib/python3.7/site-packages/sklearn/metrics/classification.py:1145: UndefinedMetricWarning: F-score is ill-defined and being set to 0.0 in labels with no true samples.\n",
      "  'recall', 'true', average, warn_for)\n"
     ]
    },
    {
     "name": "stdout",
     "output_type": "stream",
     "text": [
      "Optimization terminated successfully.\n",
      "         Current function value: 0.361565\n",
      "         Iterations: 10\n",
      "         Function evaluations: 271\n"
     ]
    },
    {
     "data": {
      "text/plain": [
       "array([0.5    , 0.5    , 0.5    , 0.5    , 0.5    , 0.5    , 0.5    ,\n",
       "       0.5    , 0.5    , 0.5    , 0.5    , 0.5    , 0.5    , 0.5    ,\n",
       "       0.5    , 0.5    , 0.51875, 0.5    , 0.5    , 0.5    , 0.5    ,\n",
       "       0.5    , 0.5    , 0.50625, 0.5    , 0.5    , 0.5    , 0.5    ])"
      ]
     },
     "execution_count": 8,
     "metadata": {},
     "output_type": "execute_result"
    }
   ],
   "source": [
    "# f1 = lambda params: f1_score(true_labels, preds > params, average='macro')\n",
    "f1 = lambda params, preds, true_labels: f1_score(true_labels, preds > params, average='macro')\n",
    "\n",
    "fmin(f1, np.ones(ncl) * .5, (preds, true_labels))"
   ]
  },
  {
   "cell_type": "code",
   "execution_count": 12,
   "metadata": {},
   "outputs": [],
   "source": [
    "def f1_loss(pred, labels):\n",
    "    tp = (pred + labels.data.byte()).eq(2).sum().float()\n",
    "    fp = (pred - labels.data.byte()).eq(1).sum().float()\n",
    "    fn = (pred - labels.data.byte()).eq(255).sum().float()\n",
    "    tn = (pred + labels.data.byte()).eq(0).sum().float()\n",
    "    try:\n",
    "        prec = tp / (tp + fp)\n",
    "    except ZeroDivisionError:\n",
    "        prec = 0.0\n",
    "    try:\n",
    "        rec = tp / (tp + fn)\n",
    "    except ZeroDivisionError:\n",
    "        rec = 0.0\n",
    "        \n",
    "    f1 = 2 * prec * rec / (prec + rec + 1e-8)\n",
    "    return 1 - f1.mean()"
   ]
  },
  {
   "cell_type": "code",
   "execution_count": 59,
   "metadata": {},
   "outputs": [],
   "source": [
    "x = torch.from_numpy(preds).float()\n",
    "y_true = torch.from_numpy(true_labels).byte()\n",
    "w = torch.Tensor(np.zeros(ncl)).float()\n",
    "w = torch.nn.Parameter(w, requires_grad=True)\n",
    "optimizer = torch.optim.LBFGS([w.requires_grad_()])\n",
    "\n",
    "for i in range(500):\n",
    "    def closure():\n",
    "        optimizer.zero_grad()\n",
    "        pred = x > w\n",
    "        loss = f1_loss(pred, y_true)\n",
    "        loss = Variable(loss, requires_grad = True)\n",
    "        loss.backward()\n",
    "        return loss\n",
    "    optimizer.step(closure)"
   ]
  },
  {
   "cell_type": "code",
   "execution_count": 60,
   "metadata": {},
   "outputs": [
    {
     "data": {
      "text/plain": [
       "Parameter containing:\n",
       "tensor([0., 0., 0., 0., 0., 0., 0., 0., 0., 0., 0., 0., 0., 0., 0., 0., 0., 0.,\n",
       "        0., 0., 0., 0., 0., 0., 0., 0., 0., 0.], requires_grad=True)"
      ]
     },
     "execution_count": 60,
     "metadata": {},
     "output_type": "execute_result"
    }
   ],
   "source": [
    "w"
   ]
  },
  {
   "cell_type": "code",
   "execution_count": null,
   "metadata": {},
   "outputs": [],
   "source": []
  }
 ],
 "metadata": {
  "kernelspec": {
   "display_name": "Python 3",
   "language": "python",
   "name": "python3"
  },
  "language_info": {
   "codemirror_mode": {
    "name": "ipython",
    "version": 3
   },
   "file_extension": ".py",
   "mimetype": "text/x-python",
   "name": "python",
   "nbconvert_exporter": "python",
   "pygments_lexer": "ipython3",
   "version": "3.7.0"
  }
 },
 "nbformat": 4,
 "nbformat_minor": 2
}
